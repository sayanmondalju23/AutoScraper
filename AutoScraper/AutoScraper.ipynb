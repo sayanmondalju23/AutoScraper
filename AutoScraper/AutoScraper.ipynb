{
 "cells": [
  {
   "cell_type": "code",
   "execution_count": 43,
   "id": "3f15c8c5",
   "metadata": {},
   "outputs": [
    {
     "name": "stdout",
     "output_type": "stream",
     "text": [
      "['Malaria-Detection', 'Deep-Learning-Car-Brand', 'Image-Webscrapper', 'Mysql-Complete-Playlist', 'Keras-Tuner', 'Finding-an-Outlier', 'Weather-Chatbot-Using-Luis', 'RegressionandLasso', 'Gender-Recognition-and-Age-Estimator', 'Car-Price-Prediction', 'Credit-Card-Fraudlent', 'Huggingfacetransformer', 'Deployment-flask', 'Feature-Engineering-Live-sessions', 'Advanced-House-Price-Prediction-', 'EDA1', 'Python-Practise-Problems', 'PysparkRegressions', 'Flask-Web-Framework', 'MediaPipe', 'Media-Pipe', 'Data-Analyst-Skill-With-Videos-in-2021', 'Deployment-Deep-Learning-Model', 'Stock-MArket-Forecasting', 'Heroku-Demo', 'Django-Series', 'stats-sessions', 'Image-Segmentation-Using-Pixellib', 'Flask-Heroku', 'Natural-Language-Processing', '84', '65', '25', '17', '31', '71', '46', '50', '145', '72', '29', '220', '221', '185', '121', '339', '53', '5', '247', '79', '129', '77', '22', '16', '18', '141']\n"
     ]
    }
   ],
   "source": [
    "from autoscraper import AutoScraper\n",
    "\n",
    "url = \"https://github.com/krishnaik06?tab=repositories\"\n",
    "#we can multiple urls here\n",
    "\n",
    "wanted_list = ['Deep-Learning-Car-Brand ', '65']\n",
    "\n",
    "scraper = AutoScraper()\n",
    "result = scraper.build(url, wanted_list)\n",
    "\n",
    "print(result)"
   ]
  },
  {
   "cell_type": "code",
   "execution_count": 45,
   "id": "1ee5f9cb",
   "metadata": {},
   "outputs": [
    {
     "data": {
      "text/plain": [
       "{'rule_7f2b': ['Malaria-Detection',\n",
       "  'Deep-Learning-Car-Brand',\n",
       "  'Image-Webscrapper',\n",
       "  'Mysql-Complete-Playlist',\n",
       "  'Keras-Tuner',\n",
       "  'Finding-an-Outlier',\n",
       "  'Weather-Chatbot-Using-Luis',\n",
       "  'RegressionandLasso',\n",
       "  'Gender-Recognition-and-Age-Estimator',\n",
       "  'Car-Price-Prediction',\n",
       "  'Credit-Card-Fraudlent',\n",
       "  'Huggingfacetransformer',\n",
       "  'Deployment-flask',\n",
       "  'Feature-Engineering-Live-sessions',\n",
       "  'Advanced-House-Price-Prediction-',\n",
       "  'EDA1',\n",
       "  'Python-Practise-Problems',\n",
       "  'PysparkRegressions',\n",
       "  'Flask-Web-Framework',\n",
       "  'MediaPipe',\n",
       "  'Media-Pipe',\n",
       "  'Data-Analyst-Skill-With-Videos-in-2021',\n",
       "  'Deployment-Deep-Learning-Model',\n",
       "  'Stock-MArket-Forecasting',\n",
       "  'Heroku-Demo',\n",
       "  'Django-Series',\n",
       "  'stats-sessions',\n",
       "  'Image-Segmentation-Using-Pixellib',\n",
       "  'Flask-Heroku',\n",
       "  'Natural-Language-Processing'],\n",
       " 'rule_838p': ['84',\n",
       "  '65',\n",
       "  '25',\n",
       "  '17',\n",
       "  '31',\n",
       "  '71',\n",
       "  '31',\n",
       "  '46',\n",
       "  '50',\n",
       "  '145',\n",
       "  '72',\n",
       "  '29',\n",
       "  '220',\n",
       "  '221',\n",
       "  '185',\n",
       "  '121',\n",
       "  '339',\n",
       "  '17',\n",
       "  '53',\n",
       "  '29',\n",
       "  '5',\n",
       "  '247',\n",
       "  '79',\n",
       "  '129',\n",
       "  '77',\n",
       "  '17',\n",
       "  '22',\n",
       "  '16',\n",
       "  '18',\n",
       "  '141']}"
      ]
     },
     "execution_count": 45,
     "metadata": {},
     "output_type": "execute_result"
    }
   ],
   "source": [
    "#grouping\n",
    "scraper.get_result_similar('https://github.com/krishnaik06?tab=repositories', grouped = True)"
   ]
  },
  {
   "cell_type": "code",
   "execution_count": 46,
   "id": "3a40d2f2",
   "metadata": {},
   "outputs": [],
   "source": [
    "scraper.set_rule_aliases({'rule_7f2b': 'Title', 'rule_838p':'Stars'})\n",
    "scraper.keep_rules(['rule_7f2b', 'rule_838p'])\n",
    "scraper.save('github-repository-search')"
   ]
  },
  {
   "cell_type": "code",
   "execution_count": 47,
   "id": "19d8d1ca",
   "metadata": {},
   "outputs": [],
   "source": [
    "result = scraper.get_result_similar('https://github.com/krishnaik06?tab=repositories', group_by_alias= True)"
   ]
  },
  {
   "cell_type": "code",
   "execution_count": 48,
   "id": "52499fad",
   "metadata": {},
   "outputs": [
    {
     "data": {
      "text/plain": [
       "['Malaria-Detection',\n",
       " 'Deep-Learning-Car-Brand',\n",
       " 'Image-Webscrapper',\n",
       " 'Mysql-Complete-Playlist',\n",
       " 'Keras-Tuner',\n",
       " 'Finding-an-Outlier',\n",
       " 'Weather-Chatbot-Using-Luis',\n",
       " 'RegressionandLasso',\n",
       " 'Gender-Recognition-and-Age-Estimator',\n",
       " 'Car-Price-Prediction',\n",
       " 'Credit-Card-Fraudlent',\n",
       " 'Huggingfacetransformer',\n",
       " 'Deployment-flask',\n",
       " 'Feature-Engineering-Live-sessions',\n",
       " 'Advanced-House-Price-Prediction-',\n",
       " 'EDA1',\n",
       " 'Python-Practise-Problems',\n",
       " 'PysparkRegressions',\n",
       " 'Flask-Web-Framework',\n",
       " 'MediaPipe',\n",
       " 'Media-Pipe',\n",
       " 'Data-Analyst-Skill-With-Videos-in-2021',\n",
       " 'Deployment-Deep-Learning-Model',\n",
       " 'Stock-MArket-Forecasting',\n",
       " 'Heroku-Demo',\n",
       " 'Django-Series',\n",
       " 'stats-sessions',\n",
       " 'Image-Segmentation-Using-Pixellib',\n",
       " 'Flask-Heroku',\n",
       " 'Natural-Language-Processing']"
      ]
     },
     "execution_count": 48,
     "metadata": {},
     "output_type": "execute_result"
    }
   ],
   "source": [
    "result['Title']"
   ]
  },
  {
   "cell_type": "code",
   "execution_count": 49,
   "id": "d8eddaa9",
   "metadata": {},
   "outputs": [
    {
     "data": {
      "text/plain": [
       "['84',\n",
       " '65',\n",
       " '25',\n",
       " '17',\n",
       " '31',\n",
       " '71',\n",
       " '31',\n",
       " '46',\n",
       " '50',\n",
       " '145',\n",
       " '72',\n",
       " '29',\n",
       " '220',\n",
       " '221',\n",
       " '185',\n",
       " '121',\n",
       " '339',\n",
       " '17',\n",
       " '53',\n",
       " '29',\n",
       " '5',\n",
       " '247',\n",
       " '79',\n",
       " '129',\n",
       " '77',\n",
       " '17',\n",
       " '22',\n",
       " '16',\n",
       " '18',\n",
       " '141']"
      ]
     },
     "execution_count": 49,
     "metadata": {},
     "output_type": "execute_result"
    }
   ],
   "source": [
    "result['Stars']"
   ]
  },
  {
   "cell_type": "code",
   "execution_count": 50,
   "id": "80b616ce",
   "metadata": {},
   "outputs": [],
   "source": [
    "scraper.load('github-repository-search')\n",
    "\n",
    "# Loading the previous script to get similar data from different url"
   ]
  },
  {
   "cell_type": "code",
   "execution_count": 51,
   "id": "2e494c06",
   "metadata": {},
   "outputs": [],
   "source": [
    "result = scraper.get_result_similar('https://github.com/sayanmondalju23?tab=repositories', group_by_alias= True)"
   ]
  },
  {
   "cell_type": "code",
   "execution_count": 52,
   "id": "075cc421",
   "metadata": {},
   "outputs": [
    {
     "data": {
      "text/plain": [
       "{'Title': ['Web-Scraping',\n",
       "  'Customer-Churn-ANN-Model',\n",
       "  'Practice',\n",
       "  'random-forest',\n",
       "  'deep-learning-keras-tf-tutorial'],\n",
       " 'Stars': ['712']}"
      ]
     },
     "execution_count": 52,
     "metadata": {},
     "output_type": "execute_result"
    }
   ],
   "source": [
    "result"
   ]
  },
  {
   "cell_type": "code",
   "execution_count": 53,
   "id": "30c35125",
   "metadata": {},
   "outputs": [
    {
     "data": {
      "text/plain": [
       "['Web-Scraping',\n",
       " 'Customer-Churn-ANN-Model',\n",
       " 'Practice',\n",
       " 'random-forest',\n",
       " 'deep-learning-keras-tf-tutorial']"
      ]
     },
     "execution_count": 53,
     "metadata": {},
     "output_type": "execute_result"
    }
   ],
   "source": [
    "result['Title']"
   ]
  },
  {
   "cell_type": "code",
   "execution_count": 54,
   "id": "c2c7773e",
   "metadata": {},
   "outputs": [
    {
     "data": {
      "text/plain": [
       "['712']"
      ]
     },
     "execution_count": 54,
     "metadata": {},
     "output_type": "execute_result"
    }
   ],
   "source": [
    "result['Stars']"
   ]
  },
  {
   "cell_type": "code",
   "execution_count": null,
   "id": "265d2d96",
   "metadata": {},
   "outputs": [],
   "source": []
  }
 ],
 "metadata": {
  "kernelspec": {
   "display_name": "Python 3 (ipykernel)",
   "language": "python",
   "name": "python3"
  },
  "language_info": {
   "codemirror_mode": {
    "name": "ipython",
    "version": 3
   },
   "file_extension": ".py",
   "mimetype": "text/x-python",
   "name": "python",
   "nbconvert_exporter": "python",
   "pygments_lexer": "ipython3",
   "version": "3.9.7"
  }
 },
 "nbformat": 4,
 "nbformat_minor": 5
}
